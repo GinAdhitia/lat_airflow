{
 "cells": [
  {
   "cell_type": "code",
   "execution_count": 6,
   "metadata": {},
   "outputs": [],
   "source": [
    "from azure.storage.blob import BlobServiceClient\n",
    "import pandas as pd\n",
    "from io import StringIO"
   ]
  },
  {
   "cell_type": "code",
   "execution_count": 3,
   "metadata": {},
   "outputs": [],
   "source": [
    "account_name = 'bvartadata'\n",
    "account_key = '303rYYBPxOK50+vgM3bW8cWaEkVg2fy549ISJbnvtI6l5lVT1W2uNhGMuzP9HEmY9B4Tzl8Bqj+6+AStfczt4A=='\n",
    "container_name = 'bvarta-internal-data'\n",
    "blob_name = 'temp/sample.csv'\n",
    "\n",
    "blob_service_client = BlobServiceClient(account_url=f\"https://{account_name}.blob.core.windows.net\", credential=account_key)"
   ]
  },
  {
   "cell_type": "code",
   "execution_count": 4,
   "metadata": {},
   "outputs": [],
   "source": [
    "blob_client = blob_service_client.get_blob_client(container=container_name, blob=blob_name)\n",
    "blob_data = blob_client.download_blob().content_as_text()"
   ]
  },
  {
   "cell_type": "code",
   "execution_count": 8,
   "metadata": {},
   "outputs": [
    {
     "name": "stdout",
     "output_type": "stream",
     "text": [
      "     Unnamed: 0  InvoiceNo StockCode                          Description  \\\n",
      "0             0     536365    85123A   WHITE HANGING HEART T-LIGHT HOLDER   \n",
      "1             1     536365     71053                  WHITE METAL LANTERN   \n",
      "2             2     536365    84406B       CREAM CUPID HEARTS COAT HANGER   \n",
      "3             3     536365    84029G  KNITTED UNION FLAG HOT WATER BOTTLE   \n",
      "4             4     536365    84029E       RED WOOLLY HOTTIE WHITE HEART.   \n",
      "..          ...        ...       ...                                  ...   \n",
      "96           96     536378     21212      PACK OF 72 RETROSPOT CAKE CASES   \n",
      "97           97     536378     21975       PACK OF 60 DINOSAUR CAKE CASES   \n",
      "98           98     536378     21977   PACK OF 60 PINK PAISLEY CAKE CASES   \n",
      "99           99     536378     84991          60 TEATIME FAIRY CAKE CASES   \n",
      "100         100     536378    84519A      TOMATO CHARLIE+LOLA COASTER SET   \n",
      "\n",
      "     Quantity       InvoiceDate  UnitPrice  CustomerID         Country  \n",
      "0           6  01-12-2010 08:26       2.55     17850.0  United Kingdom  \n",
      "1           6  01-12-2010 08:26       3.39     17850.0  United Kingdom  \n",
      "2           8  01-12-2010 08:26       2.75     17850.0  United Kingdom  \n",
      "3           6  01-12-2010 08:26       3.39     17850.0  United Kingdom  \n",
      "4           6  01-12-2010 08:26       3.39     17850.0  United Kingdom  \n",
      "..        ...               ...        ...         ...             ...  \n",
      "96        120  01-12-2010 09:37       0.42     14688.0  United Kingdom  \n",
      "97         24  01-12-2010 09:37       0.55     14688.0  United Kingdom  \n",
      "98         24  01-12-2010 09:37       0.55     14688.0  United Kingdom  \n",
      "99         24  01-12-2010 09:37       0.55     14688.0  United Kingdom  \n",
      "100         6  01-12-2010 09:37       2.95     14688.0  United Kingdom  \n",
      "\n",
      "[101 rows x 9 columns]\n"
     ]
    }
   ],
   "source": [
    "df = pd.read_csv(StringIO(blob_data))\n",
    "\n",
    "print(df)"
   ]
  },
  {
   "cell_type": "code",
   "execution_count": null,
   "metadata": {},
   "outputs": [],
   "source": []
  }
 ],
 "metadata": {
  "kernelspec": {
   "display_name": ".venv",
   "language": "python",
   "name": "python3"
  },
  "language_info": {
   "codemirror_mode": {
    "name": "ipython",
    "version": 3
   },
   "file_extension": ".py",
   "mimetype": "text/x-python",
   "name": "python",
   "nbconvert_exporter": "python",
   "pygments_lexer": "ipython3",
   "version": "3.11.5"
  }
 },
 "nbformat": 4,
 "nbformat_minor": 2
}
