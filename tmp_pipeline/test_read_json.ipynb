{
 "cells": [
  {
   "cell_type": "code",
   "execution_count": 9,
   "metadata": {},
   "outputs": [],
   "source": [
    "import pandas as pd"
   ]
  },
  {
   "cell_type": "code",
   "execution_count": 17,
   "metadata": {},
   "outputs": [
    {
     "name": "stdout",
     "output_type": "stream",
     "text": [
      "           title           description        trigger          event  \\\n",
      "0  Test webhooks  description webhooks  incoming data  incoming data   \n",
      "1  Test webhooks  description webhooks  incoming data  incoming data   \n",
      "2  Test webhooks  description webhooks  incoming data  incoming data   \n",
      "3  Test webhooks  description webhooks  incoming data  incoming data   \n",
      "\n",
      "                timestamp                                               data  \n",
      "0 2024-06-26 03:51:32.741  {'node': 'IPB Switch 1', 'parameter': 'Relay',...  \n",
      "1 2024-06-26 03:51:32.741  {'node': 'IPB Switch 2', 'parameter': 'Relay',...  \n",
      "2 2024-06-26 03:51:32.741  {'node': 'IPB Switch 3', 'parameter': 'Relay',...  \n",
      "3 2024-06-26 03:51:32.741  {'node': 'IPB Switch 4', 'parameter': 'Relay',...  \n"
     ]
    }
   ],
   "source": [
    "\n",
    "df = pd.read_json('log_202406261106.json')\n",
    "print(df.head())\n"
   ]
  },
  {
   "cell_type": "code",
   "execution_count": 23,
   "metadata": {},
   "outputs": [
    {
     "data": {
      "text/html": [
       "<div>\n",
       "<style scoped>\n",
       "    .dataframe tbody tr th:only-of-type {\n",
       "        vertical-align: middle;\n",
       "    }\n",
       "\n",
       "    .dataframe tbody tr th {\n",
       "        vertical-align: top;\n",
       "    }\n",
       "\n",
       "    .dataframe thead th {\n",
       "        text-align: right;\n",
       "    }\n",
       "</style>\n",
       "<table border=\"1\" class=\"dataframe\">\n",
       "  <thead>\n",
       "    <tr style=\"text-align: right;\">\n",
       "      <th></th>\n",
       "      <th>timestamp</th>\n",
       "      <th>refrigerator_no</th>\n",
       "      <th>temperature</th>\n",
       "      <th>id_store</th>\n",
       "    </tr>\n",
       "  </thead>\n",
       "  <tbody>\n",
       "    <tr>\n",
       "      <th>0</th>\n",
       "      <td>2024-06-26 03:51</td>\n",
       "      <td>0</td>\n",
       "      <td>-19.656225</td>\n",
       "      <td>1</td>\n",
       "    </tr>\n",
       "    <tr>\n",
       "      <th>1</th>\n",
       "      <td>2024-06-26 03:51</td>\n",
       "      <td>1</td>\n",
       "      <td>-14.524187</td>\n",
       "      <td>1</td>\n",
       "    </tr>\n",
       "    <tr>\n",
       "      <th>2</th>\n",
       "      <td>2024-06-26 03:51</td>\n",
       "      <td>2</td>\n",
       "      <td>-0.753371</td>\n",
       "      <td>1</td>\n",
       "    </tr>\n",
       "    <tr>\n",
       "      <th>3</th>\n",
       "      <td>2024-06-26 03:51</td>\n",
       "      <td>3</td>\n",
       "      <td>-6.677350</td>\n",
       "      <td>1</td>\n",
       "    </tr>\n",
       "  </tbody>\n",
       "</table>\n",
       "</div>"
      ],
      "text/plain": [
       "          timestamp  refrigerator_no  temperature  id_store\n",
       "0  2024-06-26 03:51                0   -19.656225         1\n",
       "1  2024-06-26 03:51                1   -14.524187         1\n",
       "2  2024-06-26 03:51                2    -0.753371         1\n",
       "3  2024-06-26 03:51                3    -6.677350         1"
      ]
     },
     "execution_count": 23,
     "metadata": {},
     "output_type": "execute_result"
    }
   ],
   "source": [
    "df = pd.read_json('log_202406261106.json')\n",
    "df[['node', 'parameter', 'order', 'value']] = df['data'].apply(lambda x: pd.Series([x['node'], x['parameter'], x['order'], x['value']]))\n",
    "df = df.drop(columns=['data', 'title', 'description', 'trigger', 'parameter', 'event', 'node'])\n",
    "df['timestamp'] = df['timestamp'].dt.strftime('%Y-%m-%d %H:%M')\n",
    "df['id_store'] = 1\n",
    "df = df.rename(columns={'order': 'refrigerator_no', 'value': 'temperature'})\n",
    "df"
   ]
  },
  {
   "cell_type": "code",
   "execution_count": null,
   "metadata": {},
   "outputs": [],
   "source": []
  }
 ],
 "metadata": {
  "kernelspec": {
   "display_name": ".venv",
   "language": "python",
   "name": "python3"
  },
  "language_info": {
   "codemirror_mode": {
    "name": "ipython",
    "version": 3
   },
   "file_extension": ".py",
   "mimetype": "text/x-python",
   "name": "python",
   "nbconvert_exporter": "python",
   "pygments_lexer": "ipython3",
   "version": "3.11.5"
  }
 },
 "nbformat": 4,
 "nbformat_minor": 2
}
