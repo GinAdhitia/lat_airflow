{
 "cells": [
  {
   "cell_type": "code",
   "execution_count": 33,
   "metadata": {},
   "outputs": [],
   "source": [
    "import json\n",
    "import random\n",
    "import time\n",
    "from datetime import datetime\n",
    "from azure.storage.blob import BlobServiceClient, BlobClient, ContainerClient\n",
    "from dotenv import load_dotenv\n",
    "import os"
   ]
  },
  {
   "cell_type": "code",
   "execution_count": 38,
   "metadata": {},
   "outputs": [],
   "source": [
    "load_dotenv()\n",
    "\n",
    "AZURE_CONNECTION_STRING = os.getenv('AZURE_CONNECTION_STRING')\n",
    "CONTAINER_NAME = 'bvarta-internal-data'\n",
    "LOCATION = 'temp/ingest'"
   ]
  },
  {
   "cell_type": "code",
   "execution_count": 36,
   "metadata": {},
   "outputs": [],
   "source": [
    "def generate_random_json():\n",
    "    data = {\n",
    "        \"title\": \"Test webhooks\",\n",
    "        \"description\": \"description webhooks\",\n",
    "        \"trigger\": \"incoming data\",\n",
    "        \"event\": \"incoming data\",\n",
    "        \"timestamp\": int(time.time() * 1000),\n",
    "        \"data\": []\n",
    "    }\n",
    "\n",
    "    for i in range(4):\n",
    "        entry = {\n",
    "            \"node\": f\"IPB Switch {i+1}\",\n",
    "            \"parameter\": \"Relay\",\n",
    "            \"order\": i,\n",
    "            \"value\": random.uniform(-20, 5),\n",
    "        }\n",
    "        data[\"data\"].append(entry)\n",
    "\n",
    "    return data\n",
    "\n",
    "\n",
    "def write_json_to_file(data, blob_name):\n",
    "    blob_service_client = BlobServiceClient.from_connection_string(AZURE_CONNECTION_STRING)\n",
    "    blob_client = blob_service_client.get_blob_client(container=CONTAINER_NAME, blob=blob_name)\n",
    "    \n",
    "    json_data = json.dumps(data, indent=4)\n",
    "    blob_client.upload_blob(json_data, overwrite=True)\n",
    "    print(f\"Uploaded {blob_name} to Azure Blob Storage.\")"
   ]
  },
  {
   "cell_type": "code",
   "execution_count": 39,
   "metadata": {},
   "outputs": [
    {
     "name": "stdout",
     "output_type": "stream",
     "text": [
      "Generating JSON file(s)...\n",
      "Uploaded temp/ingest/log_202406261106.json to Azure Blob Storage.\n",
      "File temp/ingest/log_202406261106.json generated.\n"
     ]
    }
   ],
   "source": [
    "print(f\"Generating JSON file(s)...\")\n",
    "\n",
    "while True:\n",
    "    data = generate_random_json()\n",
    "    filename = f\"{LOCATION}/log_{datetime.now().strftime('%Y%m%d%H%M')}.json\"\n",
    "    write_json_to_file(data, filename)\n",
    "    print(f\"File {filename} generated.\")\n",
    "    time.sleep(60)"
   ]
  },
  {
   "cell_type": "code",
   "execution_count": null,
   "metadata": {},
   "outputs": [],
   "source": []
  }
 ],
 "metadata": {
  "kernelspec": {
   "display_name": ".venv",
   "language": "python",
   "name": "python3"
  },
  "language_info": {
   "codemirror_mode": {
    "name": "ipython",
    "version": 3
   },
   "file_extension": ".py",
   "mimetype": "text/x-python",
   "name": "python",
   "nbconvert_exporter": "python",
   "pygments_lexer": "ipython3",
   "version": "3.11.5"
  }
 },
 "nbformat": 4,
 "nbformat_minor": 2
}
